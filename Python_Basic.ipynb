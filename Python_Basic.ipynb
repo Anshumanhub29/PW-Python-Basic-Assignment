{
  "nbformat": 4,
  "nbformat_minor": 0,
  "metadata": {
    "colab": {
      "provenance": []
    },
    "kernelspec": {
      "name": "python3",
      "display_name": "Python 3"
    },
    "language_info": {
      "name": "python"
    }
  },
  "cells": [
    {
      "cell_type": "code",
      "execution_count": null,
      "metadata": {
        "id": "M9K_QjnTfHq_"
      },
      "outputs": [],
      "source": []
    },
    {
      "cell_type": "markdown",
      "source": [
        "  ##              **Section 1 : Python Basics Questions**\n",
        "\n",
        "Q.1 What is Python, and why is it popular?\n",
        "\n",
        "Ans:\n",
        "Python is a high-level, interpreted programming language known for its simplicity and readability .\n",
        "\n",
        "It was created by Guido van Rossum and released in 1991.\n",
        "\n",
        "Python is used for a variety of purposes, such as web development, data analysis, artificial intelligence, machine learning, automation, and much more.*\n",
        "\n",
        "Python is popular because:\n",
        "\n",
        "Easy to Learn: Its simple and readable syntax makes it great for beginners.\n",
        "\n",
        "Versatile: It’s used in many fields like web development, data science, AI, automation, and more.\n",
        "\n",
        "Large Community: A huge number of resources, libraries, and frameworks are available.\n",
        "\n",
        "Cross-Platform: Python runs on multiple operating systems without modification.\n",
        "\n",
        "High Demand: It’s widely used in the industry, creating lots of job opportunities\n",
        "\n",
        "Q.2 What is an interpreter in Python\n",
        "\n",
        "Ans: An interpreter in Python is a program that reads and executes Python code line by line.\n",
        "\n",
        "It translates the high-level Python code into machine-readable instructions and runs them immediately, without the need for a separate compilation step.\n",
        "\n",
        "This makes it easy to test and debug code interactively.\n",
        "\n",
        "Q.3 What are pre-defined keywords in Python\n",
        "\n",
        "Ans:\n",
        "Predefined keywords in python are the special words, which have its specific role, which control and manage the flow of the program.\n",
        "\n",
        "Keywords are used to define the syntax of the coding. The keyword cannot be used as an identifier,function, or variable name.\n",
        "\n",
        "All the keywords in Python are written in lowercase except True and False.\n",
        "\n",
        "In Python, there is an inbuilt keyword module that provides an iskeyword() function that can be used to check whether a given string is a valid keyword or not.\n",
        "\n",
        "Further more, we can check the name of the keywords in Python by using the kwlist attribute of the keyword module.\n",
        "\n",
        "keywords contains meaning and functionality and these word cannot be used in vairables\n",
        "\n",
        "These keywords cannot be used as variable names, function names, or identifiers\n",
        "\n",
        "I don't rember all of them but some of them you will encounter more frequently than others.\n",
        "\n",
        "Control flow keywords: if, else, elif, for, while, break, continue\n",
        "\n",
        "Exception handling: try, except, finally\n",
        "\n",
        "Boolean logic: True, False, None, and, or, not\n",
        "\n",
        "Function and class definitions: def, class, return\n",
        "\n",
        "Importing modules: import , from\n",
        "\n",
        "but you can code as help('keywords') so you will get the list of Python Keywords\n",
        "\n",
        "\n",
        "Q.4 Can keywords be used as variable names\n",
        "\n",
        "Ans: No , keywords cannot be used as variable names in Python.\n",
        "\n",
        "Keywords are reserved words that have predefined meanings in the language and are part of its syntax.\n",
        "\n",
        "Using them as variable names will result in a syntax error.\n",
        "\n",
        "Example:\n",
        "if = 10  # This will raise a syntax error\n",
        "     \n",
        "\n",
        "Q.5 What is mutability in Python\n",
        "\n",
        "Ans: Mutability in Python refers to the ability of an object to be changed after it is created.\n",
        "\n",
        "Mutable objects: Objects whose state or value can be modified after creation. Examples: lists, dictionaries, sets.\n",
        "\n",
        "Immutable objects: Objects whose state or value cannot be changed after creation. Examples: integers, strings, tuples.\n",
        "\n",
        "\n",
        "\n",
        "Q.6 Why are lists mutable, but tuples are immutable\n",
        "\n",
        "Ans: Lists are mutable, while tuples are immutable, due to the design choices in Python to provide different behaviors for these data structures.\n",
        "\n",
        "Reasons:\n",
        "\n",
        "Purpose & Use Cases:\n",
        "\n",
        "Lists: Lists are designed to be mutable because they are typically used when you need a collection of items that can change over time (e.g., adding, removing, or updating elements).\n",
        "\n",
        "Tuples: Tuples are designed to be immutable because they are used for fixed, unchangeable collections of items. This is useful when you need to ensure that the data cannot be modified, making tuples more secure and hashable (e.g., for use as dictionary keys).\n",
        "\n",
        "Performance:\n",
        "\n",
        "Lists: Mutability makes lists flexible but also slightly slower when compared to tuples, especially in terms of memory management and operations like copying.\n",
        "\n",
        "Tuples: Since tuples are immutable, their elements cannot be changed. This makes them faster and more memory-efficient than lists.\n",
        "\n",
        "Hashability:\n",
        "\n",
        "Tuples: Because tuples are immutable, they can be used as keys in dictionaries and elements in sets, which require the objects to be hashable (i.e., they cannot be changed once created).\n",
        "\n",
        "Lists: Lists are mutable, so they cannot be used as dictionary keys or set elements because their contents can change, leading to unpredictable behavior.\n",
        "\n",
        "Q.7 What is the difference between “==” and “is” operators in Python\n",
        "\n",
        "Ans: In Python, both == and is are used for comparison, but they serve different purposes:\n",
        "\n",
        "== (Equality Operator): Compares the* values* of two objects to check if they are equal.\n",
        "\n",
        "is (Identity Operator): Compares the memory addresses of two objects to check if they are the same object in memory\n",
        "\n",
        "\n",
        "'''\n",
        "== (Equality Operator):\n",
        "Compares the values of two objects to see if they are equal.\n",
        "It checks if the contents of two objects are the same, regardless of whether they are the same object in memory.\n",
        "    \n",
        "\n",
        "Q.8 What are logical operators in Python\n",
        "\n",
        "Ans: Logical Operators:are used to combine conditional statements and perform logical operations. They allow you to make decisions based on multiple conditions by using the (and, or, not) operator.\n",
        "\n",
        "    \n",
        "Q.9 What is type casting in Python\n",
        "\n",
        "Ans:Type Casting is the method to convert the Python variable datatype into a certain data type in order to perform\n",
        "\n",
        "the required operation by users. In this article, we will see the various techniques for typecasting.\n",
        "\n",
        "There can be two types of Type Casting in Python:\n",
        "\n",
        "1 Python Implicit Type Conversion\n",
        "2 Python Explicit Type Conversion\n",
        "\n",
        "Q.10 What is the difference between implicit and explicit type casting\n",
        "\n",
        "Ans: implicit type Casting\n",
        "Python automatically converts one data type to another when needed,\n",
        "without requiring the user to explicitly do it.\n",
        "This happens when a smaller data type is assigned to a larger data type.\n",
        "'''\n",
        "\n",
        "x = 5       # Integer\n",
        "y = 2.5     # Float\n",
        "result = x + y  # Implicitly converts x (int) to float\n",
        "print(result)  # Output: 7.5\n",
        "\n",
        "explicit type Casting\n",
        "Python allows you to explicitly convert one data type to another using built-in functions.\n",
        " These functions include:\n",
        "    int(): Converts a value to an integer.\n",
        "    float(): Converts a value to a float.\n",
        "    str(): Converts a value to a string.\n",
        "    list(): Converts a value to a list.\n",
        "    tuple(): Converts a value to a tuple.\n",
        "'''\n",
        "\n",
        "Q.11 What is the purpose of conditional statements in Python\n",
        "\n",
        "Ans: The purpose of conditional statements in Python is to allow the program to make decisions and execute specific blocks of code based on whether certain conditions are True or False.\n",
        "\n",
        "Types of Conditional Statements:\n",
        "\n",
        "if Statement:\n",
        "\n",
        "The if statement is used to test a condition. If the condition is True, the code inside the if block is executed.\n",
        "\n",
        "else Statement:\n",
        "\n",
        "The else statement is used to execute a block of code if the condition in the if statement is False.\n",
        "\n",
        "elif Statement:\n",
        "\n",
        "The elif (short for \"else if\") statement is used to test multiple conditions. It allows you to check multiple conditions if the if condition is False.\n",
        "\n",
        "Purpose of Conditional Statements:\n",
        "\n",
        "Control Flow: They determine the flow of execution by allowing the program to make decisions based on conditions.\n",
        "\n",
        "Branching Logic: Conditional statements help implement logic where different actions are performed based on different conditions (e.g., checking if a number is positive, negative, or zero).\n",
        "\n",
        "Decision Making: They allow the program to choose between two or more possible actions, making it more dynamic and flexible.\n",
        "\n",
        "     \n",
        "Q.12 How does the elif statement work\n",
        "\n",
        "Ans:The elif statement in Python stands for \"else if\". It allows you to check multiple conditions in sequence after an initial if statement. If the condition of the if statement is False, Python checks the conditions of each elif in order. If one of the elif conditions is True, the corresponding block of code is executed. If none of the if or elif conditions are True, the else block (if provided) is executed.\n",
        "\n",
        "How elif works:\n",
        "\n",
        "First, Python checks the condition in the if statement.\n",
        "\n",
        "If the if condition is True, the code block under if runs, and the rest of the elif and else conditions are skipped.\n",
        "\n",
        "If the if condition is False, Python checks the next condition in the elif statement.\n",
        "\n",
        "If the elif condition is True, the code block under elif is executed.\n",
        "\n",
        "If none of the if or elif conditions are True, the else block (if present) is executed.\n",
        "\n",
        "\n",
        "Q.13 What is the difference between for and while loops\n",
        "\n",
        "Ans:The difference between for and while loops in Python lies in how they control iteration and when they stop.\n",
        "\n",
        "for loop:\n",
        "\n",
        "The for loop is used for iterating over a sequence (like a list, tuple, string, or range).\n",
        "\n",
        "It is typically used when the number of iterations is known or predetermined.\n",
        "\n",
        "Use case: The for loop is used when the number of iterations is known or when iterating over a collection.\n",
        "\n",
        "Syntax:\n",
        "\n",
        "for item in sequence:\n",
        "    # code block\n",
        "while loop:\n",
        "The while loop runs as long as a condition is true.\n",
        "\n",
        "It is typically used when the number of iterations is unknown and depends on a condition.\n",
        "\n",
        "Use case: The while loop is used when you do not know the number of iterations in advance but want to repeat until a certain condition is met\n",
        "\n",
        "Syntax:\n",
        "\n",
        "while condition:\n",
        "    # code block\n",
        "Key Differences:\n",
        "\n",
        "Iteration Mechanism:\n",
        "\n",
        "for loop: Iterates over a sequence (like a list, range, etc.).\n",
        "while loop: Runs as long as a condition is True.\n",
        "Use Case:\n",
        "\n",
        "for loop: Ideal when the number of iterations is known or you want to iterate over a collection.\n",
        "while loop: Ideal when the number of iterations is not known and the loop needs to run until a specific condition is met.\n",
        "     \n",
        "Q.14 Describe a scenario where a while loop is more suitable than a for loop.\n",
        "\n",
        "Ans:A while loop is more suitable than a for loop in situations where the number of iterations is unknown and depends on a dynamic condition that can change during the loop execution.\n",
        "\n",
        "Scenario: User Input Validation\n",
        "\n",
        "Consider a scenario where you want to ask the user for their age.\n",
        "The user should only enter a valid age (a positive integer).\n",
        "If the user enters an invalid age (such as a negative number or a non-numeric input), the program should keep asking until a valid input is given.\n",
        "Since you don't know how many attempts it will take for the user to provide valid input, a while loop is more suitable here.\n",
        "\n",
        "Why while is suitable:\n",
        "\n",
        "The number of attempts is unknown.\n",
        "The loop continues until the condition (a valid age) is met, making it ideal for input validation.\n",
        "\n",
        "     "
      ],
      "metadata": {
        "id": "d2-qUTjChSsj"
      }
    },
    {
      "cell_type": "code",
      "source": [],
      "metadata": {
        "id": "jRddNZ-4hqDd"
      },
      "execution_count": null,
      "outputs": []
    },
    {
      "cell_type": "markdown",
      "source": [
        " ##              **Section 2 : Python Basics Questions**"
      ],
      "metadata": {
        "id": "okZVGpgyoM-Q"
      }
    },
    {
      "cell_type": "markdown",
      "source": [
        "Q.1 Write a Python program to print \"Hello, World!"
      ],
      "metadata": {
        "id": "2SKkKDlAoXFS"
      }
    },
    {
      "cell_type": "code",
      "source": [
        "#Ans:\n",
        "print(\"Hello, World!\")"
      ],
      "metadata": {
        "colab": {
          "base_uri": "https://localhost:8080/"
        },
        "id": "h0hD7bMToYPf",
        "outputId": "3d1a6e31-c650-4e07-e6b6-541e4784cd33"
      },
      "execution_count": 1,
      "outputs": [
        {
          "output_type": "stream",
          "name": "stdout",
          "text": [
            "Hello, World!\n"
          ]
        }
      ]
    },
    {
      "cell_type": "code",
      "source": [],
      "metadata": {
        "id": "BMBi8DLBoSz5"
      },
      "execution_count": null,
      "outputs": []
    },
    {
      "cell_type": "markdown",
      "source": [
        "Q.2 Write a Python program that displays your name and age\n"
      ],
      "metadata": {
        "id": "xscXXlPZoq3X"
      }
    },
    {
      "cell_type": "code",
      "source": [
        "#Ans:\n",
        "name = \"Anshuman Upadhayay\"\n",
        "age = 26\n",
        "print(\"Hi my name is: \",name, age)"
      ],
      "metadata": {
        "colab": {
          "base_uri": "https://localhost:8080/"
        },
        "id": "8cIkEvWXosra",
        "outputId": "c84a530b-5f70-4c30-ae1f-5efd56720084"
      },
      "execution_count": 6,
      "outputs": [
        {
          "output_type": "stream",
          "name": "stdout",
          "text": [
            "Hi my name is:  Anshuman Upadhayay 26\n"
          ]
        }
      ]
    },
    {
      "cell_type": "code",
      "source": [],
      "metadata": {
        "id": "i2oy6Jnmo0nd"
      },
      "execution_count": null,
      "outputs": []
    },
    {
      "cell_type": "markdown",
      "source": [
        "Q.3 Write code to print all the pre-defined keywords in Python using the keyword library"
      ],
      "metadata": {
        "id": "QXicdMeFpuwV"
      }
    },
    {
      "cell_type": "code",
      "source": [
        "#Ans_1:\n",
        "help('keywords')"
      ],
      "metadata": {
        "colab": {
          "base_uri": "https://localhost:8080/"
        },
        "id": "wujUVw8KpxQu",
        "outputId": "fcf2a6c1-9645-4013-a8f0-07f3c612ae7c"
      },
      "execution_count": 7,
      "outputs": [
        {
          "output_type": "stream",
          "name": "stdout",
          "text": [
            "\n",
            "Here is a list of the Python keywords.  Enter any keyword to get more help.\n",
            "\n",
            "False               class               from                or\n",
            "None                continue            global              pass\n",
            "True                def                 if                  raise\n",
            "and                 del                 import              return\n",
            "as                  elif                in                  try\n",
            "assert              else                is                  while\n",
            "async               except              lambda              with\n",
            "await               finally             nonlocal            yield\n",
            "break               for                 not                 \n",
            "\n"
          ]
        }
      ]
    },
    {
      "cell_type": "code",
      "source": [],
      "metadata": {
        "id": "MYf4v6bcp1nU"
      },
      "execution_count": null,
      "outputs": []
    },
    {
      "cell_type": "markdown",
      "source": [
        "Q.4 Write a program that checks if a given word is a Python keyword"
      ],
      "metadata": {
        "id": "Yfbt1v8Ip9yL"
      }
    },
    {
      "cell_type": "code",
      "source": [
        "#Ans:\n",
        "import keyword\n",
        "word = input(\"Enter a word: \")\n",
        "if keyword.iskeyword(word):\n",
        "    print(f\"{word} is a Python keyword.\")\n",
        "else:\n",
        "    print(f\"{word} is not a Python keyword.\")\n"
      ],
      "metadata": {
        "colab": {
          "base_uri": "https://localhost:8080/"
        },
        "id": "WCz-KATiqBMp",
        "outputId": "e367bc21-b080-425d-ff01-6011d928093f"
      },
      "execution_count": 8,
      "outputs": [
        {
          "output_type": "stream",
          "name": "stdout",
          "text": [
            "Enter a word: print\n",
            "print is not a Python keyword.\n"
          ]
        }
      ]
    },
    {
      "cell_type": "code",
      "source": [],
      "metadata": {
        "id": "stJsOZN5qD9G"
      },
      "execution_count": null,
      "outputs": []
    },
    {
      "cell_type": "markdown",
      "source": [
        "Q.5 Create a list and tuple in Python, and demonstrate how attempting to change an element works differently for each"
      ],
      "metadata": {
        "id": "8pbqECYKqS9-"
      }
    },
    {
      "cell_type": "code",
      "source": [
        "#Ans:\n",
        "\n",
        "\n",
        "my_list = [1, 2, 3]# List (mutable)\n",
        "\n",
        "my_tuple = (1, 2, 3)# Tuple (immutable)\n",
        "\n",
        "# List (mutable)\n",
        "my_list = [1, 2, 3]\n",
        "my_list[0] = 10  # Can change elements\n",
        "print(\"Updated List:\", my_list)\n",
        "\n",
        "# Tuple (immutable)\n",
        "my_tuple = (1, 2, 3)\n",
        "try:\n",
        "    my_tuple[0] = 10  # Attempting to change an element will raise an error\n",
        "except TypeError as e:\n",
        "    print(\"Error:\", e)\n",
        ""
      ],
      "metadata": {
        "colab": {
          "base_uri": "https://localhost:8080/"
        },
        "id": "3I5lyvbhqT2v",
        "outputId": "ca19b215-3def-4a20-edb4-cac0f925a55f"
      },
      "execution_count": 9,
      "outputs": [
        {
          "output_type": "stream",
          "name": "stdout",
          "text": [
            "Updated List: [10, 2, 3]\n",
            "Error: 'tuple' object does not support item assignment\n"
          ]
        }
      ]
    },
    {
      "cell_type": "code",
      "source": [],
      "metadata": {
        "id": "SVV3sgxzqeBQ"
      },
      "execution_count": null,
      "outputs": []
    },
    {
      "cell_type": "markdown",
      "source": [
        "Q.6 Write a function to demonstrate the behavior of mutable and immutable arguments"
      ],
      "metadata": {
        "id": "PNXruqV0qk2X"
      }
    },
    {
      "cell_type": "code",
      "source": [
        "#Ans:\n",
        "# Function to modify a mutable object (list)\n",
        "def modify_list(lst):\n",
        "    lst.append(4)  # This will modify the original list\n",
        "\n",
        "# Function to modify an immutable object (string)\n",
        "def modify_string(s):\n",
        "    s += \" world\"  # This creates a new string, original remains unchanged\n",
        "\n",
        "# Demonstration with mutable and immutable data types\n",
        "\n",
        "# Mutable (list)\n",
        "my_list = [1, 2, 3]\n",
        "modify_list(my_list)\n",
        "print(\"Modified list:\", my_list)  # Output: [1, 2, 3, 4]\n",
        "\n",
        "# Immutable (string)\n",
        "my_string = \"hello\"\n",
        "modify_string(my_string)\n",
        "print(\"String after function call:\", my_string)  # Output: \"hello\""
      ],
      "metadata": {
        "colab": {
          "base_uri": "https://localhost:8080/"
        },
        "id": "jzhJrxrTqmLx",
        "outputId": "08fa9518-ef01-4607-fab4-5fcbc3a4cf07"
      },
      "execution_count": 10,
      "outputs": [
        {
          "output_type": "stream",
          "name": "stdout",
          "text": [
            "Modified list: [1, 2, 3, 4]\n",
            "String after function call: hello\n"
          ]
        }
      ]
    },
    {
      "cell_type": "code",
      "source": [],
      "metadata": {
        "id": "jMGgZDGUq0jn"
      },
      "execution_count": null,
      "outputs": []
    },
    {
      "cell_type": "markdown",
      "source": [
        "Q.7 Write a program that performs basic arithmetic operations on two user-input numbers"
      ],
      "metadata": {
        "id": "XSUaHmoBq3TO"
      }
    },
    {
      "cell_type": "code",
      "source": [
        "num1 = int(input(\"Enter first number: \"))\n",
        "num2 = int(input(\"Enter second number: \"))\n",
        "\n",
        "print(\"Addition:\", num1 + num2)\n",
        "print(\"Subtraction:\", num1 - num2)\n",
        "print(\"Multiplication:\", num1 * num2)\n",
        "print(\"Division:\", num1 / num2 if num2 != 0 else \"Cannot divide by zero\")"
      ],
      "metadata": {
        "colab": {
          "base_uri": "https://localhost:8080/"
        },
        "id": "HdFJLHMHq4DX",
        "outputId": "0251223f-8a9b-415c-a787-3920e1f2c47a"
      },
      "execution_count": 11,
      "outputs": [
        {
          "output_type": "stream",
          "name": "stdout",
          "text": [
            "Enter first number: 0\n",
            "Enter second number: 1\n",
            "Addition: 1\n",
            "Subtraction: -1\n",
            "Multiplication: 0\n",
            "Division: 0.0\n"
          ]
        }
      ]
    },
    {
      "cell_type": "code",
      "source": [],
      "metadata": {
        "id": "Fqixj1myq7L7"
      },
      "execution_count": null,
      "outputs": []
    },
    {
      "cell_type": "markdown",
      "source": [
        "Q.8 Write a program to demonstrate the use of logical operators"
      ],
      "metadata": {
        "id": "PpWuGxYurCUk"
      }
    },
    {
      "cell_type": "code",
      "source": [
        "#Ans:\n",
        "# Example with comparison operators and logical operators (AND, OR, Not)\n",
        "x = 10\n",
        "y = 20\n",
        "\n",
        "# AND operator (both conditions must be true)\n",
        "if x > 5 and y < 30:\n",
        "    print(\"Returns True if both conditions are True\")\n",
        "\n",
        "# OR operator (at least one condition must be true)\n",
        "if x < 5 or y > 15:\n",
        "    print(\"Returns True if at least one condition is True\")\n",
        "\n",
        "# NOT operator (reverses the condition - Returns the opposite of the condition)\n",
        "if not(x > 15):\n",
        "    print(\"x is not greater than 15\")"
      ],
      "metadata": {
        "colab": {
          "base_uri": "https://localhost:8080/"
        },
        "id": "ZxiHCSg9rDBn",
        "outputId": "15f3c344-6ed9-4972-f5ee-684df664d9ef"
      },
      "execution_count": 12,
      "outputs": [
        {
          "output_type": "stream",
          "name": "stdout",
          "text": [
            "Returns True if both conditions are True\n",
            "Returns True if at least one condition is True\n",
            "x is not greater than 15\n"
          ]
        }
      ]
    },
    {
      "cell_type": "code",
      "source": [],
      "metadata": {
        "id": "aht3TtfnrFcP"
      },
      "execution_count": null,
      "outputs": []
    },
    {
      "cell_type": "markdown",
      "source": [
        "Q.9 Write a Python program to convert user input from string to integer, float, and boolean types"
      ],
      "metadata": {
        "id": "axG9TYQXrIWO"
      }
    },
    {
      "cell_type": "code",
      "source": [
        "#Ans:\n",
        "# Get input from the user (input is always a string)\n",
        "user_input = input(\"Enter a value: \")\n",
        "\n",
        "# Convert to integer\n",
        "int_value = int(user_input)  # Convert input to integer\n",
        "print(\"Integer:\", int_value)\n",
        "\n",
        "# Convert to float\n",
        "float_value = float(user_input)  # Convert input to float\n",
        "print(\"Float:\", float_value)\n",
        "\n",
        "# Convert to boolean (empty string is False, non-empty string is True)\n",
        "bool_value = bool(user_input)  # Convert input to boolean\n",
        "print(\"Boolean:\", bool_value)\n",
        ""
      ],
      "metadata": {
        "colab": {
          "base_uri": "https://localhost:8080/"
        },
        "id": "7ml8ojpUrJMm",
        "outputId": "bccac021-40a0-4aec-8728-6ab37e34f7cc"
      },
      "execution_count": 13,
      "outputs": [
        {
          "output_type": "stream",
          "name": "stdout",
          "text": [
            "Enter a value: 0\n",
            "Integer: 0\n",
            "Float: 0.0\n",
            "Boolean: True\n"
          ]
        }
      ]
    },
    {
      "cell_type": "code",
      "source": [],
      "metadata": {
        "id": "iKnRRMgRrLzq"
      },
      "execution_count": null,
      "outputs": []
    },
    {
      "cell_type": "markdown",
      "source": [
        "Q.10 Write code to demonstrate type casting with list elements"
      ],
      "metadata": {
        "id": "cmr84jQ2rQsS"
      }
    },
    {
      "cell_type": "code",
      "source": [
        "#Ans:\n",
        "str_list = [\"10\", \"20\", \"30\"]\n",
        "int_list = list(map(int, str_list))\n",
        "print(\"List of integers:\", int_list)"
      ],
      "metadata": {
        "colab": {
          "base_uri": "https://localhost:8080/"
        },
        "id": "fQGzosxIrRZ0",
        "outputId": "4ab4e2af-e58f-4dad-bcf8-e363eb9918e6"
      },
      "execution_count": 14,
      "outputs": [
        {
          "output_type": "stream",
          "name": "stdout",
          "text": [
            "List of integers: [10, 20, 30]\n"
          ]
        }
      ]
    },
    {
      "cell_type": "code",
      "source": [],
      "metadata": {
        "id": "L0NB6kpbrUJF"
      },
      "execution_count": null,
      "outputs": []
    },
    {
      "cell_type": "markdown",
      "source": [
        "Q.11 Write a program that checks if a number is positive, negative, or zero"
      ],
      "metadata": {
        "id": "oT62YPvArXqt"
      }
    },
    {
      "cell_type": "code",
      "source": [
        "#Ans:\n",
        "number = float(input(\"Enter a number: \"))\n",
        "\n",
        "if number > 0:\n",
        "    print(\"The number is positive.\")\n",
        "elif number < 0:\n",
        "    print(\"The number is negative.\")\n",
        "else:\n",
        "    print(\"The number is zero.\")\n"
      ],
      "metadata": {
        "colab": {
          "base_uri": "https://localhost:8080/"
        },
        "id": "a8qUrIRkrYiR",
        "outputId": "91797081-1151-4bda-8095-be60f6bdb0c8"
      },
      "execution_count": 15,
      "outputs": [
        {
          "output_type": "stream",
          "name": "stdout",
          "text": [
            "Enter a number: 12\n",
            "The number is positive.\n"
          ]
        }
      ]
    },
    {
      "cell_type": "code",
      "source": [],
      "metadata": {
        "id": "u4mX_vOZrbU7"
      },
      "execution_count": null,
      "outputs": []
    },
    {
      "cell_type": "markdown",
      "source": [
        "Q.12 Write a for loop to print numbers from 1 to 10"
      ],
      "metadata": {
        "id": "ijspksXzrgBc"
      }
    },
    {
      "cell_type": "code",
      "source": [
        "#Ans:\n",
        "for i in range(1, 11):\n",
        "    print(i)\n",
        "\n"
      ],
      "metadata": {
        "colab": {
          "base_uri": "https://localhost:8080/"
        },
        "id": "t_QG_6r8rgt5",
        "outputId": "846fb07a-d422-40c0-9de2-9b6179756e9e"
      },
      "execution_count": 16,
      "outputs": [
        {
          "output_type": "stream",
          "name": "stdout",
          "text": [
            "1\n",
            "2\n",
            "3\n",
            "4\n",
            "5\n",
            "6\n",
            "7\n",
            "8\n",
            "9\n",
            "10\n"
          ]
        }
      ]
    },
    {
      "cell_type": "code",
      "source": [],
      "metadata": {
        "id": "cRZm6dYPrix1"
      },
      "execution_count": null,
      "outputs": []
    },
    {
      "cell_type": "markdown",
      "source": [
        "Q.13 Write a Python program to find the sum of all even numbers between 1 and 50"
      ],
      "metadata": {
        "id": "yXVQjeYHrl56"
      }
    },
    {
      "cell_type": "code",
      "source": [
        "#Ans:\n",
        "\n",
        "# Initialize sum variable\n",
        "even_sum = 0\n",
        "\n",
        "# Loop through numbers from 1 to 50\n",
        "for num in range(1, 51):\n",
        "    if num % 2 == 0:\n",
        "        even_sum += num\n",
        "\n",
        "# Print the sum of even numbers\n",
        "print(\"Sum of all even numbers between 1 and 50:\", even_sum)"
      ],
      "metadata": {
        "colab": {
          "base_uri": "https://localhost:8080/"
        },
        "id": "dK_uEO7Lrmz-",
        "outputId": "b8593c8a-2ed0-4ede-eb20-85903bcbb141"
      },
      "execution_count": 17,
      "outputs": [
        {
          "output_type": "stream",
          "name": "stdout",
          "text": [
            "Sum of all even numbers between 1 and 50: 650\n"
          ]
        }
      ]
    },
    {
      "cell_type": "code",
      "source": [],
      "metadata": {
        "id": "F4J0YXXFrpVw"
      },
      "execution_count": null,
      "outputs": []
    },
    {
      "cell_type": "markdown",
      "source": [
        "Q.14 Write a program to reverse a string using a while loop"
      ],
      "metadata": {
        "id": "-0Sot0POrsj8"
      }
    },
    {
      "cell_type": "code",
      "source": [
        "#Ans:\n",
        "string = input(\"Enter a string: \")\n",
        "reversed_string = \"\"\n",
        "i = len(string) - 1\n",
        "\n",
        "while i >= 0:\n",
        "    reversed_string += string[i]\n",
        "    i -= 1\n",
        "\n",
        "print(\"Reversed string:\", reversed_string)"
      ],
      "metadata": {
        "colab": {
          "base_uri": "https://localhost:8080/"
        },
        "id": "mBv-Gp34rvT6",
        "outputId": "61572dff-cd44-41da-eac1-26b604e610aa"
      },
      "execution_count": 18,
      "outputs": [
        {
          "output_type": "stream",
          "name": "stdout",
          "text": [
            "Enter a string: radhe\n",
            "Reversed string: ehdar\n"
          ]
        }
      ]
    },
    {
      "cell_type": "code",
      "source": [],
      "metadata": {
        "id": "KDZGLsntrz2Z"
      },
      "execution_count": null,
      "outputs": []
    },
    {
      "cell_type": "markdown",
      "source": [
        "Q.15 Write a Python program to calculate the factorial of a number provided by the user using a while loop\n",
        "\n"
      ],
      "metadata": {
        "id": "e0UbFIdor_OA"
      }
    },
    {
      "cell_type": "code",
      "source": [
        "#Ans:\n",
        "# Get input from the user\n",
        "num = int(input(\"Enter a number to calculate its factorial: \"))\n",
        "\n",
        "# Initialize variables\n",
        "factorial = 2\n",
        "i = 2\n",
        "\n",
        "# Calculate factorial using a while loop\n",
        "while i <= num:\n",
        "    factorial *= i\n",
        "    i += 2\n",
        "\n",
        "print(f\"The factorial of {num} is: {factorial}\")"
      ],
      "metadata": {
        "colab": {
          "base_uri": "https://localhost:8080/"
        },
        "id": "7RhHdVagr_25",
        "outputId": "74c93d24-6882-48cf-901d-c647a9ff5498"
      },
      "execution_count": 19,
      "outputs": [
        {
          "output_type": "stream",
          "name": "stdout",
          "text": [
            "Enter a number to calculate its factorial: 14\n",
            "The factorial of 14 is: 1290240\n"
          ]
        }
      ]
    },
    {
      "cell_type": "code",
      "source": [],
      "metadata": {
        "id": "IJj38lTcsGIi"
      },
      "execution_count": null,
      "outputs": []
    }
  ]
}